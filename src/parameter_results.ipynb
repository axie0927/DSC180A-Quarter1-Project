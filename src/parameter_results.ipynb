{
 "cells": [
  {
   "cell_type": "markdown",
   "id": "6cc436fb",
   "metadata": {},
   "source": [
    "# Getting Parameter Results\n",
    "\n",
    "This file applies all the parameter functions onto the first 4 MJD_Train data sets and saves the results into a csv file so it can be used for feature engineering in the models. "
   ]
  },
  {
   "cell_type": "code",
   "execution_count": 6,
   "id": "0a52c56a-141d-437c-bca2-932e50cf641d",
   "metadata": {},
   "outputs": [],
   "source": [
    "# Imports\n",
    "import h5py\n",
    "import os\n",
    "import time\n",
    "import numpy as np\n",
    "import pandas as pd"
   ]
  },
  {
   "cell_type": "markdown",
   "id": "e0e275af",
   "metadata": {},
   "source": [
    "Importing all the parameter functions that will be used to extract the parameters."
   ]
  },
  {
   "cell_type": "code",
   "execution_count": 3,
   "id": "a8f991fa",
   "metadata": {},
   "outputs": [],
   "source": [
    "# Get the base directory of the repository\n",
    "repo_base_dir = os.getcwd()\n",
    "\n",
    "# Get all HDF5 files in the data directory\n",
    "data_dir = os.path.join(repo_base_dir, \"data/\") \n",
    "data_files = [f for f in os.listdir(str(data_dir)) if f.endswith(\".hdf5\")]\n",
    "\n",
    "# Import parameter extraction functions\n",
    "from parameter_functions.tdrift import tdrift\n",
    "from parameter_functions.rea import rea\n",
    "from parameter_functions.dcr import find_dcr\n",
    "from parameter_functions.peakandtailslope import extract_peak_and_tail_slope\n",
    "from parameter_functions.current_amplitude import max_amplitude\n",
    "from parameter_functions.fourier_lfpr import normalized_fourier, lfpr\n",
    "from parameter_functions.lq80 import LQ80\n",
    "from parameter_functions.agr import area_growth_rate\n",
    "from parameter_functions.inflection import inflection_points\n",
    "from parameter_functions.rising_edge import rising_edge_slope"
   ]
  },
  {
   "cell_type": "code",
   "execution_count": null,
   "id": "89c07daa",
   "metadata": {},
   "outputs": [],
   "source": [
    "# %%\n",
    "start = time.time()\n",
    "# Parameter extraction from all waveform data\n",
    "results = []\n",
    "count = 0\n",
    "for file in data_files:\n",
    "    with h5py.File(data_dir + file, 'r') as f:\n",
    "        for wave in np.arange(f['raw_waveform'].shape[0]):\n",
    "            # Needed labels\n",
    "            waveform = f['raw_waveform'][wave]\n",
    "            tp0 = f['tp0'][wave]\n",
    "            id = f['id'][wave]\n",
    "\n",
    "            # Parameter extraction\n",
    "            tdriftVal = tdrift(waveform, tp0) # 99.9%, 50%, 10%\n",
    "            reaVal = rea(waveform, tp0)\n",
    "            dcrVal = find_dcr(waveform)\n",
    "            peakandtailVal = extract_peak_and_tail_slope(waveform)\n",
    "            max_amp = max_amplitude(waveform)\n",
    "            lfprVal = lfpr(normalized_fourier(waveform, tp0)[0])\n",
    "            lq80 = LQ80(waveform, tp0)\n",
    "            agr = area_growth_rate(waveform)\n",
    "            inflectionpts = inflection_points(waveform, tp0)\n",
    "            res = rising_edge_slope(waveform, tp0)\n",
    "\n",
    "            results.append({'id': id,\n",
    "                'tdrift': tdriftVal[0],\n",
    "                'tdrift50': tdriftVal[1],\n",
    "                'tdrift10': tdriftVal[2],\n",
    "                'rea': reaVal,\n",
    "                'dcr': dcrVal,\n",
    "                'peakindex': peakandtailVal[0],\n",
    "                'peakvalue': peakandtailVal[1],\n",
    "                'tailslope': peakandtailVal[2],\n",
    "                'currentamp': max_amp,\n",
    "                'lfpr': lfprVal,\n",
    "                'lq80': lq80,\n",
    "                'areagrowthrate': agr,\n",
    "                'inflection point': inflectionpts,\n",
    "                'risingedgeslope': res\n",
    "            })\n",
    "        df = pd.DataFrame(results)\n",
    "    df.to_csv(\"results_MJD_Train_\" + str(count) + \".csv\", index=False)\n",
    "    count += 1\n",
    "end = time.time()\n",
    "print(end - start)"
   ]
  }
 ],
 "metadata": {
  "kernelspec": {
   "display_name": "venv",
   "language": "python",
   "name": "python3"
  },
  "language_info": {
   "codemirror_mode": {
    "name": "ipython",
    "version": 3
   },
   "file_extension": ".py",
   "mimetype": "text/x-python",
   "name": "python",
   "nbconvert_exporter": "python",
   "pygments_lexer": "ipython3",
   "version": "3.9.6"
  }
 },
 "nbformat": 4,
 "nbformat_minor": 5
}
